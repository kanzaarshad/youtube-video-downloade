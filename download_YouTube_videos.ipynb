{
  "nbformat": 4,
  "nbformat_minor": 0,
  "metadata": {
    "colab": {
      "provenance": []
    },
    "kernelspec": {
      "name": "python3",
      "display_name": "Python 3"
    },
    "language_info": {
      "name": "python"
    }
  },
  "cells": [
    {
      "cell_type": "code",
      "execution_count": 1,
      "metadata": {
        "colab": {
          "base_uri": "https://localhost:8080/"
        },
        "id": "U0EDPmuyNxFz",
        "outputId": "7fa2269f-dea7-4e47-adca-0295932006b2"
      },
      "outputs": [
        {
          "output_type": "stream",
          "name": "stdout",
          "text": [
            "Collecting pytube\n",
            "  Downloading pytube-15.0.0-py3-none-any.whl.metadata (5.0 kB)\n",
            "Downloading pytube-15.0.0-py3-none-any.whl (57 kB)\n",
            "\u001b[?25l   \u001b[90m━━━━━━━━━━━━━━━━━━━━━━━━━━━━━━━━━━━━━━━━\u001b[0m \u001b[32m0.0/57.6 kB\u001b[0m \u001b[31m?\u001b[0m eta \u001b[36m-:--:--\u001b[0m\r\u001b[2K   \u001b[90m━━━━━━━━━━━━━━━━━━━━━━━━━━━━━━━━━━━━━━━━\u001b[0m \u001b[32m57.6/57.6 kB\u001b[0m \u001b[31m2.3 MB/s\u001b[0m eta \u001b[36m0:00:00\u001b[0m\n",
            "\u001b[?25hInstalling collected packages: pytube\n",
            "Successfully installed pytube-15.0.0\n"
          ]
        }
      ],
      "source": [
        "!pip install pytube\n"
      ]
    },
    {
      "cell_type": "code",
      "source": [
        "from pytube import YouTube\n",
        "\n",
        "# Function to download a YouTube video\n",
        "def download_youtube_video(url, output_path='.'):\n",
        "    try:\n",
        "        # Create a YouTube object\n",
        "        yt = YouTube(url)\n",
        "\n",
        "        # Get the highest resolution stream\n",
        "        stream = yt.streams.get_highest_resolution()\n",
        "\n",
        "        # Download the video\n",
        "        stream.download(output_path=output_path)\n",
        "\n",
        "        print(f\"Downloaded: {yt.title}\")\n",
        "        print(f\"Saved to: {output_path}\")\n",
        "    except Exception as e:\n",
        "        print(f\"An error occurred: {e}\")\n",
        "\n",
        "# Example usage\n",
        "video_url = 'https://www.youtube.com/watch?v=YOUR_VIDEO_ID'  # Replace with your YouTube video URL\n",
        "download_youtube_video(video_url, output_path='/content')  # Downloads to the /content directory in Colab\n"
      ],
      "metadata": {
        "id": "ypjmwmvKWl_i",
        "outputId": "f4246ef1-8f6b-4977-d09d-2e2d3730d5bd",
        "colab": {
          "base_uri": "https://localhost:8080/"
        }
      },
      "execution_count": 2,
      "outputs": [
        {
          "output_type": "stream",
          "name": "stdout",
          "text": [
            "An error occurred: YOUR_VIDEO_ is unavailable\n"
          ]
        }
      ]
    }
  ]
}